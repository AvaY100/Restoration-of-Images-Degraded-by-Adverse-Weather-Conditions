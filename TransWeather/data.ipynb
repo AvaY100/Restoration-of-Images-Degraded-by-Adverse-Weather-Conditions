{
 "cells": [
  {
   "cell_type": "code",
   "execution_count": null,
   "metadata": {},
   "outputs": [],
   "source": [
    "https://drive.google.com/file/d/1tfeBnjZX1wIhIFPl6HOzzOKOyo0GdGHl/view"
   ]
  },
  {
   "cell_type": "code",
   "execution_count": null,
   "metadata": {},
   "outputs": [],
   "source": [
    "wget --no-check-certificate 'https://drive.google.com/uc?export=download&id=1tfeBnjZX1wIhIFPl6HOzzOKOyo0GdGHl' -O allweather.zip"
   ]
  }
 ],
 "metadata": {
  "language_info": {
   "name": "python"
  }
 },
 "nbformat": 4,
 "nbformat_minor": 2
}
